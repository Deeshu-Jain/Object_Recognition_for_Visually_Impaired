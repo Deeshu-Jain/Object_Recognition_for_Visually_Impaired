{
 "cells": [
  {
   "cell_type": "code",
   "execution_count": 1,
   "id": "5923f0c5",
   "metadata": {},
   "outputs": [],
   "source": [
    "import numpy as np\n",
    "import argparse\n",
    "import cv2 as cv\n",
    "import subprocess\n",
    "import time\n",
    "import os\n",
    "from yolo_utils import infer_image, show_image"
   ]
  },
  {
   "cell_type": "code",
   "execution_count": 6,
   "id": "e0355111",
   "metadata": {},
   "outputs": [],
   "source": [
    "  FLAGS = []\n",
    "\n",
    "if __name__ == '__main__':\n",
    "    parser = argparse.ArgumentParser()\n",
    "    \n",
    "    parser.add_argument('-m', '--model',\n",
    "        default='./weights/')\n",
    "    \n",
    "    parser.add_argument('-w', '--weights',\n",
    "        default='./weights/yolov3.weights')\n",
    "\n",
    "    parser.add_argument('-cfg', '--config',\n",
    "        default='./cfg/yolov3.cfg')\n",
    "\n",
    "    parser.add_argument('-v', '--video-path',\n",
    "        default='./videos/airport.mp4')\n",
    "\n",
    "    parser.add_argument('-vo', '--video-output-path',\n",
    "        default='./output/airport.avi')\n",
    "\n",
    "    parser.add_argument('-l', '--labels',\n",
    "        default='./data/coco.names')\n",
    "\n",
    "    parser.add_argument('-c', '--confidence',\n",
    "        type=float,\n",
    "        default=0.5)\n",
    "\n",
    "    parser.add_argument('-th', '--threshold',\n",
    "        type=float,\n",
    "        default=0.3)\n",
    "\n",
    "    parser.add_argument('-t', '--show-time',\n",
    "        default=False)\n",
    "\n",
    "    FLAGS, unparsed = parser.parse_known_args()\n",
    "\n",
    "\n",
    "# Get the labels\n",
    "    labels = open(FLAGS.labels).read().strip().split('\\n')\n",
    "\n",
    "# Intializing colors to represent each label uniquely\n",
    "    colors = np.random.randint(0, 255, size=(len(labels), 3), dtype='uint8')\n",
    "\n",
    "# Load the weights and configutation to form the pretrained YOLOv3 model\n",
    "    net = cv.dnn.readNetFromDarknet(FLAGS.config, FLAGS.weights)\n",
    "\n",
    "    # Get the output layer names of the model\n",
    "    layer_names = net.getLayerNames()\n",
    "    layer_names = [layer_names[i-1] for i in net.getUnconnectedOutLayers()]"
   ]
  },
  {
   "cell_type": "code",
   "execution_count": 7,
   "id": "418abe30",
   "metadata": {},
   "outputs": [
    {
     "ename": "KeyboardInterrupt",
     "evalue": "",
     "output_type": "error",
     "traceback": [
      "\u001b[1;31m---------------------------------------------------------------------------\u001b[0m",
      "\u001b[1;31mKeyboardInterrupt\u001b[0m                         Traceback (most recent call last)",
      "\u001b[1;32m~\\AppData\\Local\\Temp/ipykernel_36060/462728367.py\u001b[0m in \u001b[0;36m<module>\u001b[1;34m\u001b[0m\n\u001b[0;32m     20\u001b[0m                    \u001b[0mheight\u001b[0m\u001b[1;33m,\u001b[0m \u001b[0mwidth\u001b[0m \u001b[1;33m=\u001b[0m \u001b[0mframe\u001b[0m\u001b[1;33m.\u001b[0m\u001b[0mshape\u001b[0m\u001b[1;33m[\u001b[0m\u001b[1;33m:\u001b[0m\u001b[1;36m2\u001b[0m\u001b[1;33m]\u001b[0m\u001b[1;33m\u001b[0m\u001b[1;33m\u001b[0m\u001b[0m\n\u001b[0;32m     21\u001b[0m \u001b[1;33m\u001b[0m\u001b[0m\n\u001b[1;32m---> 22\u001b[1;33m                \u001b[0mframe\u001b[0m\u001b[1;33m,\u001b[0m \u001b[0m_\u001b[0m\u001b[1;33m,\u001b[0m \u001b[0m_\u001b[0m\u001b[1;33m,\u001b[0m \u001b[0m_\u001b[0m\u001b[1;33m,\u001b[0m \u001b[0m_\u001b[0m \u001b[1;33m=\u001b[0m \u001b[0minfer_image\u001b[0m\u001b[1;33m(\u001b[0m\u001b[0mnet\u001b[0m\u001b[1;33m,\u001b[0m \u001b[0mlayer_names\u001b[0m\u001b[1;33m,\u001b[0m \u001b[0mheight\u001b[0m\u001b[1;33m,\u001b[0m \u001b[0mwidth\u001b[0m\u001b[1;33m,\u001b[0m \u001b[0mframe\u001b[0m\u001b[1;33m,\u001b[0m \u001b[0mcolors\u001b[0m\u001b[1;33m,\u001b[0m \u001b[0mlabels\u001b[0m\u001b[1;33m,\u001b[0m \u001b[0mFLAGS\u001b[0m\u001b[1;33m)\u001b[0m\u001b[1;33m\u001b[0m\u001b[1;33m\u001b[0m\u001b[0m\n\u001b[0m\u001b[0;32m     23\u001b[0m \u001b[1;33m\u001b[0m\u001b[0m\n\u001b[0;32m     24\u001b[0m                \u001b[1;32mif\u001b[0m \u001b[0mwriter\u001b[0m \u001b[1;32mis\u001b[0m \u001b[1;32mNone\u001b[0m\u001b[1;33m:\u001b[0m\u001b[1;33m\u001b[0m\u001b[1;33m\u001b[0m\u001b[0m\n",
      "\u001b[1;32m~\\Desktop\\Object Recognition with Voice Assistant for Visually Impaired\\Object-detection-using-YOLOv3\\yolo_utils.py\u001b[0m in \u001b[0;36minfer_image\u001b[1;34m(net, layer_names, height, width, img, colors, labels, FLAGS, boxes, confidences, classids, idxs, infer)\u001b[0m\n\u001b[0;32m     75\u001b[0m         \u001b[1;31m# Getting the outputs from the output layers\u001b[0m\u001b[1;33m\u001b[0m\u001b[1;33m\u001b[0m\u001b[0m\n\u001b[0;32m     76\u001b[0m         \u001b[0mstart\u001b[0m \u001b[1;33m=\u001b[0m \u001b[0mtime\u001b[0m\u001b[1;33m.\u001b[0m\u001b[0mtime\u001b[0m\u001b[1;33m(\u001b[0m\u001b[1;33m)\u001b[0m\u001b[1;33m\u001b[0m\u001b[1;33m\u001b[0m\u001b[0m\n\u001b[1;32m---> 77\u001b[1;33m         \u001b[0mouts\u001b[0m \u001b[1;33m=\u001b[0m \u001b[0mnet\u001b[0m\u001b[1;33m.\u001b[0m\u001b[0mforward\u001b[0m\u001b[1;33m(\u001b[0m\u001b[0mlayer_names\u001b[0m\u001b[1;33m)\u001b[0m\u001b[1;33m\u001b[0m\u001b[1;33m\u001b[0m\u001b[0m\n\u001b[0m\u001b[0;32m     78\u001b[0m         \u001b[0mend\u001b[0m \u001b[1;33m=\u001b[0m \u001b[0mtime\u001b[0m\u001b[1;33m.\u001b[0m\u001b[0mtime\u001b[0m\u001b[1;33m(\u001b[0m\u001b[1;33m)\u001b[0m\u001b[1;33m\u001b[0m\u001b[1;33m\u001b[0m\u001b[0m\n\u001b[0;32m     79\u001b[0m \u001b[1;33m\u001b[0m\u001b[0m\n",
      "\u001b[1;31mKeyboardInterrupt\u001b[0m: "
     ]
    }
   ],
   "source": [
    " if FLAGS.video_path:\n",
    "# Read the video\n",
    "        try:\n",
    "            vid = cv.VideoCapture(FLAGS.video_path)\n",
    "            height, width = None, None\n",
    "            writer = None\n",
    "        except:\n",
    "            raise 'Video cannot be loaded!\\n\\\n",
    "                               Please check the path provided!'\n",
    "\n",
    "        finally:\n",
    "            while True:\n",
    "                grabbed, frame = vid.read()\n",
    "\n",
    "# Checking if the complete video is read\n",
    "                if not grabbed:\n",
    "                    break\n",
    "\n",
    "                if width is None or height is None:\n",
    "                    height, width = frame.shape[:2]\n",
    "\n",
    "                frame, _, _, _, _ = infer_image(net, layer_names, height, width, frame, colors, labels, FLAGS)\n",
    "\n",
    "                if writer is None:\n",
    " # Initialize the video writer\n",
    "                     fourcc = cv.VideoWriter_fourcc(*\"MJPG\")\n",
    "                     writer = cv.VideoWriter(FLAGS.video_output_path, fourcc, 30, \n",
    "                               (frame.shape[1], frame.shape[0]), True)\n",
    "\n",
    "                writer.write(frame)\n",
    "\n",
    "            print (\"[INFO] Cleaning up...\")\n",
    "            writer.release()\n",
    "            vid.release()\n"
   ]
  },
  {
   "cell_type": "code",
   "execution_count": 4,
   "id": "18114065",
   "metadata": {},
   "outputs": [],
   "source": []
  },
  {
   "cell_type": "code",
   "execution_count": null,
   "id": "19325e45",
   "metadata": {},
   "outputs": [],
   "source": []
  },
  {
   "cell_type": "code",
   "execution_count": null,
   "id": "21f4b3ce",
   "metadata": {},
   "outputs": [],
   "source": []
  }
 ],
 "metadata": {
  "kernelspec": {
   "display_name": "Python 3 (ipykernel)",
   "language": "python",
   "name": "python3"
  },
  "language_info": {
   "codemirror_mode": {
    "name": "ipython",
    "version": 3
   },
   "file_extension": ".py",
   "mimetype": "text/x-python",
   "name": "python",
   "nbconvert_exporter": "python",
   "pygments_lexer": "ipython3",
   "version": "3.9.7"
  }
 },
 "nbformat": 4,
 "nbformat_minor": 5
}
